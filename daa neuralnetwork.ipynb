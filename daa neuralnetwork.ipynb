{
 "cells": [
  {
   "cell_type": "code",
   "execution_count": 2,
   "id": "940e509b",
   "metadata": {},
   "outputs": [],
   "source": [
    "import pandas as pd\n",
    "import numpy as np\n",
    "import torch\n",
    "import torch.nn as nn\n",
    "import torch.optim as optim\n",
    "from sklearn.model_selection import train_test_split\n",
    "from sklearn.preprocessing import StandardScaler"
   ]
  },
  {
   "cell_type": "code",
   "execution_count": 3,
   "id": "a0f87b0d",
   "metadata": {},
   "outputs": [],
   "source": [
    "df = pd.read_csv(r\"C:\\Users\\saake\\Downloads\\archive\\Bank_Personal_Loan_Modelling.csv\")"
   ]
  },
  {
   "cell_type": "code",
   "execution_count": 4,
   "id": "868b0245",
   "metadata": {},
   "outputs": [],
   "source": [
    "df = pd.get_dummies(df, columns=[\"Education\", \"Personal Loan\", \"Securities Account\", \"CD Account\", \"Online\", \"CreditCard\"])"
   ]
  },
  {
   "cell_type": "code",
   "execution_count": 5,
   "id": "96f92b61",
   "metadata": {},
   "outputs": [],
   "source": [
    "df = df.drop([\"ID\", \"ZIP Code\"], axis=1)"
   ]
  },
  {
   "cell_type": "code",
   "execution_count": 22,
   "id": "5b6e23e3",
   "metadata": {},
   "outputs": [],
   "source": [
    "class MyNet(nn.Module):\n",
    "    def __init__(self, input_size, hidden_size, num_classes):\n",
    "        super(MyNet, self).__init__()\n",
    "        self.fc1 = nn.Linear(input_size, hidden_size)\n",
    "        self.fc2 = nn.Linear(hidden_size, hidden_size)\n",
    "        self.fc3 = nn.Linear(hidden_size, num_classes)\n",
    "\n",
    "    def forward(self, x):\n",
    "        x = nn.functional.relu(self.fc1(x))\n",
    "        x = nn.functional.relu(self.fc2(x))\n",
    "        x = nn.functional.log_softmax(self.fc3(x), dim=1)\n",
    "        return x"
   ]
  },
  {
   "cell_type": "code",
   "execution_count": 23,
   "id": "43f63588",
   "metadata": {},
   "outputs": [],
   "source": [
    "def train_model(model, X_train, y_train, epochs, batch_size, lr):\n",
    "    criterion = nn.NLLLoss()\n",
    "    optimizer = optim.Adam(model.parameters(), lr=lr)\n",
    "\n",
    "    for epoch in range(epochs):\n",
    "        epoch_loss = 0\n",
    "        for i in range(0, len(X_train), batch_size):\n",
    "            optimizer.zero_grad()\n",
    "            batch_X = torch.Tensor(X_train[i:i+batch_size])\n",
    "            batch_y = torch.LongTensor(y_train[i:i+batch_size])\n",
    "            outputs = model(batch_X)\n",
    "            loss = criterion(outputs, batch_y)\n",
    "            loss.backward()\n",
    "            optimizer.step()\n",
    "            epoch_loss += loss.item()\n",
    "\n",
    "        if (epoch+1) % 10 == 0:\n",
    "            print(f\"Epoch {epoch+1}/{epochs}, Loss: {epoch_loss:.4f}\")\n"
   ]
  },
  {
   "cell_type": "code",
   "execution_count": 24,
   "id": "efc90d0d",
   "metadata": {},
   "outputs": [
    {
     "name": "stdout",
     "output_type": "stream",
     "text": [
      "Epoch 10/100, Loss: 1.3579\n",
      "Epoch 20/100, Loss: 1.3313\n",
      "Epoch 30/100, Loss: 1.2803\n",
      "Epoch 40/100, Loss: 1.1948\n",
      "Epoch 50/100, Loss: 1.0518\n",
      "Epoch 60/100, Loss: 0.8975\n",
      "Epoch 70/100, Loss: 0.6499\n",
      "Epoch 80/100, Loss: 0.4037\n",
      "Epoch 90/100, Loss: 0.2308\n",
      "Epoch 100/100, Loss: 0.1361\n"
     ]
    }
   ],
   "source": [
    "X_train = [[0.1, 0.2, 0.3], [0.2, 0.3, 0.4], [0.3, 0.4, 0.5], [0.4, 0.5, 0.6]]\n",
    "y_train = [0, 1, 1, 0]\n",
    "model = MyNet(input_size=3, hidden_size=4, num_classes=2)\n",
    "train_model(model, X_train, y_train, epochs=100, batch_size=2, lr=0.01)"
   ]
  },
  {
   "cell_type": "code",
   "execution_count": 25,
   "id": "017d8ab4",
   "metadata": {},
   "outputs": [],
   "source": [
    "#genetic algorithm\n"
   ]
  },
  {
   "cell_type": "code",
   "execution_count": 26,
   "id": "14d6ee7b",
   "metadata": {},
   "outputs": [],
   "source": [
    "import random\n",
    "import numpy as np\n",
    "import torch\n",
    "import torch.nn as nn\n",
    "import torch.nn.functional as F\n",
    "import copy\n"
   ]
  },
  {
   "cell_type": "code",
   "execution_count": 27,
   "id": "50ca2fc5",
   "metadata": {},
   "outputs": [],
   "source": [
    "class Net(nn.Module):\n",
    "    def __init__(self, input_size, hidden_size, output_size):\n",
    "        super(Net, self).__init__()\n",
    "        self.fc1 = nn.Linear(input_size, hidden_size)\n",
    "        self.fc2 = nn.Linear(hidden_size, hidden_size)\n",
    "        self.fc3 = nn.Linear(hidden_size, output_size)\n",
    "\n",
    "    def forward(self, x):\n",
    "        x = F.relu(self.fc1(x))\n",
    "        x = F.relu(self.fc2(x))\n",
    "        x = F.log_softmax(self.fc3(x), dim=1)\n",
    "        return x"
   ]
  },
  {
   "cell_type": "code",
   "execution_count": 28,
   "id": "9adf4fd7",
   "metadata": {},
   "outputs": [],
   "source": [
    "def fitness(net, X_train, y_train):\n",
    "    outputs = net(torch.Tensor(X_train))\n",
    "    _, predicted = torch.max(outputs.data, 1)\n",
    "    correct = (predicted == torch.LongTensor(y_train)).sum().item()\n",
    "    total = len(y_train)\n",
    "    accuracy = correct / total\n",
    "    return accuracy"
   ]
  },
  {
   "cell_type": "code",
   "execution_count": 29,
   "id": "24fe84e6",
   "metadata": {},
   "outputs": [],
   "source": [
    "def genetic_algorithm(X_train, y_train, pop_size=10, elite_size=2, mutation_rate=0.1, generations=10):\n",
    "    input_size = X_train.shape[1]\n",
    "    output_size = len(np.unique(y_train))\n",
    "    population = []\n",
    "    for i in range(pop_size):\n",
    "        hidden_size = random.randint(2, 100)\n",
    "        net = Net(input_size, hidden_size, output_size)\n",
    "        population.append(net)\n",
    "\n",
    "    for i in range(generations):\n",
    "        fitness_scores = [(net, fitness(net, X_train, y_train)) for net in population]\n",
    "        fitness_scores = sorted(fitness_scores, key=lambda x: x[1], reverse=True)\n",
    "        print(\"Generation:\", i+1, \"Best fitness score:\", fitness_scores[0][1])\n",
    "        elites = [fitness_scores[i][0] for i in range(elite_size)]\n",
    "        new_population = copy.deepcopy(elites)\n",
    "        while len(new_population) < pop_size:\n",
    "            parent1 = random.choice(elites)\n",
    "            parent2 = random.choice(elites)\n",
    "            child = crossover(parent1, parent2)\n",
    "            if random.random() < mutation_rate:\n",
    "                child = mutate(child)\n",
    "            new_population.append(child)\n",
    "        population = new_population\n",
    "\n",
    "    return fitness_scores[0][0]"
   ]
  },
  {
   "cell_type": "code",
   "execution_count": 30,
   "id": "46cfaf22",
   "metadata": {},
   "outputs": [],
   "source": [
    "def crossover(parent1, parent2):\n",
    "    child = Net(parent1.fc1.in_features, parent1.fc1.out_features, parent1.fc3.out_features)\n",
    "    child.fc1.weight.data = (parent1.fc1.weight.data + parent2.fc1.weight.data) / 2\n",
    "    child.fc1.bias.data = (parent1.fc1.bias.data + parent2.fc1.bias.data) / 2\n",
    "    child.fc2.weight.data = (parent1.fc2.weight.data + parent2.fc2.weight.data) / 2\n",
    "    child.fc2.bias.data = (parent1.fc2.bias.data + parent2.fc2.bias.data) / 2\n",
    "    child.fc3.weight.data = (parent1.fc3.weight.data + parent2.fc3.weight.data) / 2\n",
    "    child.fc3.bias.data = (parent1.fc3.bias.data + parent2.fc3.bias.data) / 2\n",
    "    return child"
   ]
  },
  {
   "cell_type": "code",
   "execution_count": 31,
   "id": "33d4c893",
   "metadata": {},
   "outputs": [],
   "source": [
    "def mutate(net):\n",
    "    child = copy.deepcopy(net)\n",
    "    layer = random.randint(1, 3)\n",
    "    if layer == 1:\n",
    "        child.fc1.weight.data += torch.randn_like(child.fc1.weight.data)"
   ]
  },
  {
   "cell_type": "code",
   "execution_count": 32,
   "id": "68d61fea",
   "metadata": {},
   "outputs": [],
   "source": [
    "#cultural algorithm"
   ]
  },
  {
   "cell_type": "code",
   "execution_count": 33,
   "id": "cb5310c4",
   "metadata": {},
   "outputs": [],
   "source": [
    "import numpy as np\n",
    "import torch\n",
    "import torch.nn as nn\n",
    "import torch.nn.functional as F\n",
    "from sklearn.model_selection import train_test_split"
   ]
  },
  {
   "cell_type": "code",
   "execution_count": 34,
   "id": "31080426",
   "metadata": {},
   "outputs": [],
   "source": [
    "class Net(nn.Module):\n",
    "    def __init__(self, input_size, hidden_size, output_size):\n",
    "        super(Net, self).__init__()\n",
    "        self.fc1 = nn.Linear(input_size, hidden_size)\n",
    "        self.fc2 = nn.Linear(hidden_size, hidden_size)\n",
    "        self.fc3 = nn.Linear(hidden_size, output_size)\n",
    "\n",
    "    def forward(self, x):\n",
    "        x = F.relu(self.fc1(x))\n",
    "        x = F.relu(self.fc2(x))\n",
    "        x = F.log_softmax(self.fc3(x), dim=1)\n",
    "        return x"
   ]
  },
  {
   "cell_type": "code",
   "execution_count": 43,
   "id": "8280ce96",
   "metadata": {},
   "outputs": [],
   "source": [
    "import random\n",
    "import numpy as np\n",
    "import copy\n",
    "import torch\n",
    "import torch.nn as nn\n",
    "import torch.nn.functional as F\n",
    "from sklearn.metrics import accuracy_score"
   ]
  },
  {
   "cell_type": "code",
   "execution_count": 44,
   "id": "6e1966c7",
   "metadata": {},
   "outputs": [
    {
     "ename": "SyntaxError",
     "evalue": "unexpected EOF while parsing (Temp/ipykernel_20432/2695285494.py, line 89)",
     "output_type": "error",
     "traceback": [
      "\u001b[1;36m  File \u001b[1;32m\"C:\\Users\\saake\\AppData\\Local\\Temp/ipykernel_20432/2695285494.py\"\u001b[1;36m, line \u001b[1;32m89\u001b[0m\n\u001b[1;33m    fitness_scores.append(f\u001b[0m\n\u001b[1;37m                           ^\u001b[0m\n\u001b[1;31mSyntaxError\u001b[0m\u001b[1;31m:\u001b[0m unexpected EOF while parsing\n"
     ]
    }
   ],
   "source": [
    "class Net(nn.Module):\n",
    "    def __init__(self, input_size, hidden_size, output_size):\n",
    "        super(Net, self).__init__()\n",
    "        self.fc1 = nn.Linear(input_size, hidden_size)\n",
    "        self.fc2 = nn.Linear(hidden_size, hidden_size)\n",
    "        self.fc3 = nn.Linear(hidden_size, output_size)\n",
    "\n",
    "    def forward(self, x):\n",
    "        x = nn.functional.relu(self.fc1(x))\n",
    "        x = nn.functional.relu(self.fc2(x))\n",
    "        x = nn.functional.log_softmax(self.fc3(x), dim=1)\n",
    "        return x\n",
    "\n",
    "# define the cultural algorithm\n",
    "class CulturalAlgorithm:\n",
    "    def __init__(self, population_size, elite_size, mutation_rate, crossover_rate, num_generations):\n",
    "        self.population_size = population_size\n",
    "        self.elite_size = elite_size\n",
    "        self.mutation_rate = mutation_rate\n",
    "        self.crossover_rate = crossover_rate\n",
    "        self.num_generations = num_generations\n",
    "        self.elite_population = []\n",
    "\n",
    "    def initialize_population(self, net):\n",
    "        population = []\n",
    "        for i in range(self.population_size):\n",
    "            individual = {}\n",
    "            for name, param in net.named_parameters():\n",
    "                individual[name] = torch.randn(param.shape)\n",
    "            population.append(individual)\n",
    "        return population\n",
    "\n",
    "    def evaluate_fitness(self, net, individual, X, y):\n",
    "        with torch.no_grad():\n",
    "            net.load_state_dict(individual)\n",
    "            outputs = net(torch.Tensor(X))\n",
    "            _, predicted = torch.max(outputs.data, 1)\n",
    "            accuracy = torch.sum(predicted == torch.LongTensor(y)).item() / len(y)\n",
    "        return accuracy\n",
    "\n",
    "    def selection(self, population, fitness_scores):\n",
    "        selected = []\n",
    "        total_fitness = sum(fitness_scores)\n",
    "        probabilities = [score/total_fitness for score in fitness_scores]\n",
    "        for i in range(self.elite_size):\n",
    "            selected.append(population[np.argmax(fitness_scores)])\n",
    "            del population[np.argmax(fitness_scores)]\n",
    "            del fitness_scores[np.argmax(fitness_scores)]\n",
    "        for i in range(self.population_size - self.elite_size):\n",
    "            selected.append(random.choices(population, probabilities)[0])\n",
    "        return selected\n",
    "\n",
    "    def crossover(self, parent1, parent2):\n",
    "        child1 = {}\n",
    "        child2 = {}\n",
    "        for name in parent1:\n",
    "            if random.random() < self.crossover_rate:\n",
    "                child1[name] = parent1[name]\n",
    "                child2[name] = parent2[name]\n",
    "            else:\n",
    "                child1[name] = parent2[name]\n",
    "                child2[name] = parent1[name]\n",
    "        return child1, child2\n",
    "\n",
    "    def mutation(self, individual):\n",
    "        mutated_individual = {}\n",
    "        for name in individual:\n",
    "            if random.random() < self.mutation_rate:\n",
    "                mutated_individual[name] = individual[name] + torch.randn(individual[name].shape)\n",
    "            else:\n",
    "                mutated_individual[name] = individual[name]\n",
    "        return mutated_individual\n",
    "\n",
    "    def run(self, X_train, y_train, X_test, y_test):\n",
    "        # initialize the neural network\n",
    "        input_size = X_train.shape[1]\n",
    "        output_size = len(set(y_train))\n",
    "        hidden_size = 64\n",
    "        net = Net(input_size, hidden_size, output_size)\n",
    "\n",
    "        # initialize the population\n",
    "        population = self.initialize_population(net)\n",
    "\n",
    "        for generation in range(self.num_generations):\n",
    "            # evaluate the fitness of each individual in the population\n",
    "            fitness_scores = []\n",
    "            for individual in population:\n",
    "                fitness = self.evaluate_fitness(net, individual, X_train, y_train)\n",
    "                fitness_scores.append(f"
   ]
  },
  {
   "cell_type": "code",
   "execution_count": 45,
   "id": "02a5e36a",
   "metadata": {},
   "outputs": [],
   "source": [
    "#particle swarm optimization"
   ]
  },
  {
   "cell_type": "code",
   "execution_count": 46,
   "id": "5db60b38",
   "metadata": {},
   "outputs": [],
   "source": [
    "import numpy as np\n",
    "import torch\n",
    "import torch.nn as nn\n",
    "import torch.optim as optim"
   ]
  },
  {
   "cell_type": "code",
   "execution_count": 47,
   "id": "6868ccc7",
   "metadata": {},
   "outputs": [],
   "source": [
    "\n",
    "class PSO:\n",
    "    def __init__(self, num_particles, max_iters, lr, w, c1, c2):\n",
    "        self.num_particles = num_particles\n",
    "        self.max_iters = max_iters\n",
    "        self.lr = lr\n",
    "        self.w = w\n",
    "        self.c1 = c1\n",
    "        self.c2 = c2\n",
    "        self.swarm_pos = None\n",
    "        self.swarm_vel = None\n",
    "        self.p_best_pos = None\n",
    "        self.p_best_cost = None\n",
    "        self.g_best_pos = None\n",
    "        self.g_best_cost = None\n",
    "\n",
    "    def init_particles(self, num_weights):\n",
    "        self.swarm_pos = torch.randn(self.num_particles, num_weights)\n",
    "        self.swarm_vel = torch.randn(self.num_particles, num_weights)\n",
    "        self.p_best_pos = self.swarm_pos.clone()\n",
    "        self.p_best_cost = torch.ones(self.num_particles) * np.inf\n",
    "\n",
    "    def set_fitness_function(self, fitness_fn):\n",
    "        self.fitness_fn = fitness_fn\n",
    "\n",
    "    def optimize(self):\n",
    "        for i in range(self.max_iters):\n",
    "            # Evaluate fitness of each particle\n",
    "            particle_costs = self.fitness_fn(self.swarm_pos)\n",
    "            \n",
    "            # Update personal best positions\n",
    "            update_idx = particle_costs < self.p_best_cost\n",
    "            self.p_best_pos[update_idx] = self.swarm_pos[update_idx]\n",
    "            self.p_best_cost[update_idx] = particle_costs[update_idx]\n",
    "\n",
    "            # Update global best position\n",
    "            g_best_idx = torch.argmin(self.p_best_cost)\n",
    "            if self.g_best_cost is None or self.p_best_cost[g_best_idx] < self.g_best_cost:\n",
    "                self.g_best_pos = self.p_best_pos[g_best_idx].clone()\n",
    "                self.g_best_cost = self.p_best_cost[g_best_idx]\n",
    "\n",
    "            # Update particle velocities and positions\n",
    "            r1 = torch.rand(self.num_particles, 1)\n",
    "            r2 = torch.rand(self.num_particles, 1)\n",
    "            self.swarm_vel = self.w * self.swarm_vel \\\n",
    "                             + self.c1 * r1 * (self.p_best_pos - self.swarm_pos) \\\n",
    "                             + self.c2 * r2 * (self.g_best_pos - self.swarm_pos)\n",
    "            self.swarm_pos = self.swarm_pos + self.lr * self.swarm_vel\n",
    "\n",
    "        return self.g_best_pos, self.g_best_cost"
   ]
  },
  {
   "cell_type": "code",
   "execution_count": 49,
   "id": "1cfd96c2",
   "metadata": {},
   "outputs": [
    {
     "ename": "TypeError",
     "evalue": "__init__() missing 2 required positional arguments: 'hidden_size' and 'output_size'",
     "output_type": "error",
     "traceback": [
      "\u001b[1;31m---------------------------------------------------------------------------\u001b[0m",
      "\u001b[1;31mTypeError\u001b[0m                                 Traceback (most recent call last)",
      "\u001b[1;32m~\\AppData\\Local\\Temp/ipykernel_20432/923717665.py\u001b[0m in \u001b[0;36m<module>\u001b[1;34m\u001b[0m\n\u001b[0;32m     22\u001b[0m \u001b[1;33m\u001b[0m\u001b[0m\n\u001b[0;32m     23\u001b[0m \u001b[1;31m# Initialize PSO optimizer and set fitness function\u001b[0m\u001b[1;33m\u001b[0m\u001b[1;33m\u001b[0m\u001b[0m\n\u001b[1;32m---> 24\u001b[1;33m \u001b[0mnet\u001b[0m \u001b[1;33m=\u001b[0m \u001b[0mNet\u001b[0m\u001b[1;33m(\u001b[0m\u001b[0minput\u001b[0m\u001b[1;33m)\u001b[0m\u001b[1;33m\u001b[0m\u001b[1;33m\u001b[0m\u001b[0m\n\u001b[0m",
      "\u001b[1;31mTypeError\u001b[0m: __init__() missing 2 required positional arguments: 'hidden_size' and 'output_size'"
     ]
    }
   ],
   "source": [
    "class Net(nn.Module):\n",
    "    def __init__(self, input_size, hidden_size, output_size):\n",
    "        super().__init__()\n",
    "        self.fc1 = nn.Linear(input_size, hidden_size)\n",
    "        self.fc2 = nn.Linear(hidden_size, output_size)\n",
    "\n",
    "    def forward(self, x):\n",
    "        x = nn.functional.relu(self.fc1(x))\n",
    "        x = self.fc2(x)\n",
    "        return x\n",
    "\n",
    "# Define your fitness function\n",
    "def fitness_fn(weights):\n",
    "    net.load_state_dict({'fc1.weight': weights[0:12].reshape(4, 3),\n",
    "                         'fc1.bias': weights[12:15],\n",
    "                         'fc2.weight': weights[15:19].reshape(1, 4),\n",
    "                         'fc2.bias': weights[19]})\n",
    "    with torch.no_grad():\n",
    "        outputs = net(torch.Tensor(X_train))\n",
    "        loss = criterion(outputs, torch.LongTensor(y_train))\n",
    "    return loss.item()\n",
    "\n",
    "# Initialize PSO optimizer and set fitness function\n",
    "net = Net(input"
   ]
  },
  {
   "cell_type": "code",
   "execution_count": null,
   "id": "18fb645a",
   "metadata": {},
   "outputs": [],
   "source": []
  }
 ],
 "metadata": {
  "kernelspec": {
   "display_name": "Python 3 (ipykernel)",
   "language": "python",
   "name": "python3"
  },
  "language_info": {
   "codemirror_mode": {
    "name": "ipython",
    "version": 3
   },
   "file_extension": ".py",
   "mimetype": "text/x-python",
   "name": "python",
   "nbconvert_exporter": "python",
   "pygments_lexer": "ipython3",
   "version": "3.9.7"
  }
 },
 "nbformat": 4,
 "nbformat_minor": 5
}
